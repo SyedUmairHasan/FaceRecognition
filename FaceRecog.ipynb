{
 "cells": [
  {
   "cell_type": "code",
   "execution_count": 1,
   "metadata": {},
   "outputs": [],
   "source": [
    "import cv2\n",
    "import numpy as np \n",
    "import matplotlib.pyplot as plt\n",
    "import os\n",
    "from glob import glob"
   ]
  },
  {
   "cell_type": "code",
   "execution_count": 54,
   "metadata": {},
   "outputs": [],
   "source": [
    "def load_train_test_data(dir):\n",
    "    all_folders=glob(dir)\n",
    "    train_data=[]\n",
    "    test_data=[]\n",
    "    for folder in all_folders:\n",
    "        images = [cv2.imread(file,0) for file in glob(\"%s*.pgm\"%(folder))]\n",
    "        images_train = images[::2]\n",
    "        images_test = images[1::2]\n",
    "        train_data.append(images_train)\n",
    "        test_data.append(images_test)\n",
    "    return train_data,test_data\n",
    "\n",
    "def downsampling(train_data,test_data):\n",
    "    for i,folder in enumerate(train_data):\n",
    "        for j,img in enumerate(folder):\n",
    "            train_data[i][j] = cv2.resize(img, (0,0), fx=0.1, fy=0.1)\n",
    "    \n",
    "    for i,folder in enumerate(test_data):\n",
    "        for j,img in enumerate(folder):\n",
    "            test_data[i][j] = cv2.resize(img, (0,0), fx=0.1, fy=0.1)\n",
    "    \n",
    "    return train_data_copy,test_data_copy\n",
    "\n",
    "def vectorized(train_data,test_data):\n",
    "    for i,folder in enumerate(train_data):\n",
    "        for j,img in enumerate(folder):\n",
    "            train_data[i][j] = train_data[i][j].reshape(-1,1) \n",
    "    \n",
    "    for i,folder in enumerate(test_data):\n",
    "        for j,img in enumerate(folder):\n",
    "            test_data[i][j] = test_data[i][j].reshape(-1,1)\n",
    "    \n",
    "    return train_data,test_data\n",
    "\n",
    "\n",
    "def normalize(train_data,test_data):\n",
    "    for i,folder in enumerate(train_data):\n",
    "        for j,img in enumerate(folder):\n",
    "            train_data[i][j] = train_data[i][j]/train_data[i][j].max() \n",
    "    \n",
    "    for i,folder in enumerate(test_data):\n",
    "        for j,img in enumerate(folder):\n",
    "            test_data[i][j] = test_data[i][j]/test_data[i][j].max()\n",
    "    \n",
    "    return train_data,test_data\n",
    "\n",
    "def stacking(train_data):\n",
    "    classes = []\n",
    "    for i,folder in enumerate(train_data):\n",
    "        X = np.zeros((len(train_data[0][0]),1))\n",
    "        for j,img in enumerate(folder):\n",
    "            X = np.append(X,train_data[i][j],axis=1)\n",
    "        classes.append(X[:,1:])\n",
    "    return classes\n",
    "\n",
    "def b_hat(model,y):\n",
    "    Bi = []\n",
    "    Yi = []\n",
    "    for i,X in enumerate(model):\n",
    "        Xt = np.transpose(X)\n",
    "        inv = np.linalg.inv(np.dot(Xt,X)) \n",
    "        B = np.dot(inv,np.dot(Xt,y))\n",
    "        y = np.dot(X,B)\n",
    "        Yi.append(y)\n",
    "        Bi.append(B)\n",
    "    return Yi\n",
    "\n",
    "\n",
    "def distance(model,y):\n",
    "    Yi = b_hat(model,y)\n",
    "    all_dist=[]\n",
    "    for yi in Yi:\n",
    "        #dist = np.linalg.norm(y-yi)\n",
    "        #dist = np.hypot(*(y-yi).T)\n",
    "        dist = np.sqrt(np.sum((y - yi) ** 2))  \n",
    "        all_dist.append(dist)\n",
    "    return all_dist"
   ]
  },
  {
   "cell_type": "code",
   "execution_count": 55,
   "metadata": {},
   "outputs": [],
   "source": [
    "train_data,test_data=load_train_test_data(\"media/FaceDataset/*/\")\n",
    "train_data_copy = train_data.copy()\n",
    "test_data_copy = test_data.copy()\n",
    "\n",
    "train_data_ds,test_data_ds = downsampling(train_data_copy,test_data_copy)\n",
    "\n",
    "train_data_ds_v,test_data_ds_v = vectorized(train_data_ds,test_data_ds)\n",
    "\n",
    "train_data_ds_v_n,test_data_ds_v_n = normalize(train_data_ds_v,test_data_ds_v)\n",
    "\n",
    "Classes = stacking(train_data_ds_v_n)\n",
    "\n",
    "#Bi,Yi = b_hat(Classes,test_data_ds_v_n[34][2])\n",
    "\n",
    "#all_dist = distance(Classes,test_data_ds_v_n[34][2])\n",
    "\n",
    "#print(all_dist)\n",
    "\n",
    "#print(all_dist.index(min(all_dist)))"
   ]
  },
  {
   "cell_type": "code",
   "execution_count": 56,
   "metadata": {},
   "outputs": [],
   "source": [
    "accurate = 0\n",
    "for i in range(40):\n",
    "    for j in range(5):\n",
    "        all_dist = distance(Classes,test_data_ds_v_n[i][j])\n",
    "        if all_dist.index(min(all_dist)) == i:\n",
    "            accurate += 1\n",
    "accuracy = (accurate/2)"
   ]
  },
  {
   "cell_type": "code",
   "execution_count": 57,
   "metadata": {},
   "outputs": [
    {
     "name": "stdout",
     "output_type": "stream",
     "text": [
      "8.5\n"
     ]
    }
   ],
   "source": [
    "print(accuracy)"
   ]
  },
  {
   "cell_type": "code",
   "execution_count": null,
   "metadata": {},
   "outputs": [],
   "source": []
  }
 ],
 "metadata": {
  "kernelspec": {
   "display_name": "Python 3",
   "language": "python",
   "name": "python3"
  },
  "language_info": {
   "codemirror_mode": {
    "name": "ipython",
    "version": 3
   },
   "file_extension": ".py",
   "mimetype": "text/x-python",
   "name": "python",
   "nbconvert_exporter": "python",
   "pygments_lexer": "ipython3",
   "version": "3.7.6"
  }
 },
 "nbformat": 4,
 "nbformat_minor": 4
}
